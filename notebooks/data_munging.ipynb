{
 "cells": [
  {
   "cell_type": "code",
   "execution_count": 43,
   "metadata": {},
   "outputs": [],
   "source": [
    "import pandas as pd\n",
    "import numpy as np\n",
    "import scipy.stats as stats\n",
    "import matplotlib.pyplot as plt\n",
    "\n",
    "df_registry = pd.read_csv(\"../data/clean_registry.csv\")\n",
    "df_cases = pd.read_csv(\"../data/clean_cases.csv\")\n",
    "df_pop = pd.read_csv(\"../data/clean_pop.csv\")"
   ]
  },
  {
   "cell_type": "code",
   "execution_count": 44,
   "metadata": {},
   "outputs": [],
   "source": [
    "def df_by_registry(df):\n",
    "    '''\n",
    "    aggregate data by registry and remove not important columns\n",
    "    '''\n",
    "    df_new = df.groupby('REGISTRY').sum().iloc[:,2:].reset_index()\n",
    "    return df_new\n",
    "    \n",
    "def annualize_case_data(df_cases):\n",
    "    '''\n",
    "    annualze data by dividing by 5 as we have 5 years of data\n",
    "    '''\n",
    "    df_cases['TOTAL_CASES'] = df_cases['TOTAL'] / 5\n",
    "    df_cases['N0_14'] = df_cases['N0_14'] / 5\n",
    "    df_cases['N15_29'] = df_cases['N15_29'] / 5\n",
    "    df_cases['N30_44'] = df_cases['N30_44'] / 5\n",
    "    df_cases['N45_64'] = df_cases['N45_64'] / 5\n",
    "    df_cases['N65'] = df_cases['N65'] / 5\n",
    "    return df_cases\n",
    "\n",
    "def annualize_pop_data(df_pop):\n",
    "    '''\n",
    "    annualze data by dividing by 5 as we have 5 years of data\n",
    "    '''\n",
    "    df_pop['TOTAL_POP'] = df_pop['TOTAL'] / 5\n",
    "    df_pop['P0_14'] = df_pop['P0_14'] / 5\n",
    "    df_pop['P15_29'] = df_pop['P15_29'] / 5\n",
    "    df_pop['P30_44'] = df_pop['P30_44'] / 5\n",
    "    df_pop['P45_64'] = df_pop['P45_64'] / 5\n",
    "    df_pop['P65'] = df_pop['P65'] / 5\n",
    "    return df_pop\n",
    "\n",
    "def munge_cases(df_cases):\n",
    "    df_cases_1 = df_by_registry(df_cases)\n",
    "    df_cases_new = annualize_case_data(df_cases_1)\n",
    "    return df_cases_new\n",
    "    \n",
    "def munge_pop(df_pop):\n",
    "    df_pop_1 = df_by_registry(df_pop)\n",
    "    df_pop_new = annualize_pop_data(df_pop_1)\n",
    "    return df_pop_new\n",
    "\n",
    "def combine_data(df_cases,df_pop,df_registry):\n",
    "    df_cases_new = munge_cases(df_cases)\n",
    "    df_pop_new = munge_pop(df_pop)\n",
    "    df_pop_reg = df_pop_new.merge(df_registry, on = 'REGISTRY',suffixes=('', '_reg'))\n",
    "    df_combo = df_pop_reg.merge(df_cases_new, on = 'REGISTRY',suffixes=('', '_cases'))\n",
    "    return df_combo"
   ]
  },
  {
   "cell_type": "code",
   "execution_count": 45,
   "metadata": {},
   "outputs": [],
   "source": [
    "df_combo = combine_data(df_cases,df_pop,df_registry)"
   ]
  },
  {
   "cell_type": "code",
   "execution_count": 46,
   "metadata": {},
   "outputs": [],
   "source": [
    "df_combo.drop(['TOTAL','country_long','star','is_national','is_national_exists','is_subset','TOTAL_cases'],axis = 1, inplace = True)"
   ]
  },
  {
   "cell_type": "code",
   "execution_count": 49,
   "metadata": {},
   "outputs": [],
   "source": [
    "df_combo_country = df_combo.groupby('country_name').sum().iloc[:,1:].reset_index()"
   ]
  },
  {
   "cell_type": "code",
   "execution_count": 50,
   "metadata": {},
   "outputs": [],
   "source": [
    "df_combo_country['Incidence Per Capita'] = df_combo_country['TOTAL_CASES'] / df_combo_country['TOTAL_POP']"
   ]
  },
  {
   "cell_type": "code",
   "execution_count": 51,
   "metadata": {},
   "outputs": [
    {
     "data": {
      "text/html": [
       "<div>\n",
       "<style scoped>\n",
       "    .dataframe tbody tr th:only-of-type {\n",
       "        vertical-align: middle;\n",
       "    }\n",
       "\n",
       "    .dataframe tbody tr th {\n",
       "        vertical-align: top;\n",
       "    }\n",
       "\n",
       "    .dataframe thead th {\n",
       "        text-align: right;\n",
       "    }\n",
       "</style>\n",
       "<table border=\"1\" class=\"dataframe\">\n",
       "  <thead>\n",
       "    <tr style=\"text-align: right;\">\n",
       "      <th></th>\n",
       "      <th>country_name</th>\n",
       "      <th>P0_14</th>\n",
       "      <th>P15_29</th>\n",
       "      <th>P30_44</th>\n",
       "      <th>P45_64</th>\n",
       "      <th>P65</th>\n",
       "      <th>TOTAL_POP</th>\n",
       "      <th>N0_14</th>\n",
       "      <th>N15_29</th>\n",
       "      <th>N30_44</th>\n",
       "      <th>N45_64</th>\n",
       "      <th>N65</th>\n",
       "      <th>TOTAL_CASES</th>\n",
       "      <th>Incidence Per Capita</th>\n",
       "    </tr>\n",
       "  </thead>\n",
       "  <tbody>\n",
       "    <tr>\n",
       "      <th>0</th>\n",
       "      <td>Algeria</td>\n",
       "      <td>338603.0</td>\n",
       "      <td>380581.0</td>\n",
       "      <td>221287.4</td>\n",
       "      <td>156217.6</td>\n",
       "      <td>58953.8</td>\n",
       "      <td>1155642.8</td>\n",
       "      <td>73.2</td>\n",
       "      <td>150.2</td>\n",
       "      <td>389.0</td>\n",
       "      <td>900.6</td>\n",
       "      <td>793.4</td>\n",
       "      <td>2306.4</td>\n",
       "      <td>0.001996</td>\n",
       "    </tr>\n",
       "    <tr>\n",
       "      <th>1</th>\n",
       "      <td>Argentina</td>\n",
       "      <td>1363473.2</td>\n",
       "      <td>1362708.8</td>\n",
       "      <td>995826.8</td>\n",
       "      <td>955536.4</td>\n",
       "      <td>476624.2</td>\n",
       "      <td>5154169.4</td>\n",
       "      <td>505.8</td>\n",
       "      <td>1072.2</td>\n",
       "      <td>3325.0</td>\n",
       "      <td>14384.2</td>\n",
       "      <td>19659.6</td>\n",
       "      <td>38946.8</td>\n",
       "      <td>0.007556</td>\n",
       "    </tr>\n",
       "    <tr>\n",
       "      <th>2</th>\n",
       "      <td>Australia</td>\n",
       "      <td>4999918.4</td>\n",
       "      <td>5577377.0</td>\n",
       "      <td>5553157.8</td>\n",
       "      <td>6588836.2</td>\n",
       "      <td>3567685.4</td>\n",
       "      <td>26286974.8</td>\n",
       "      <td>2321.8</td>\n",
       "      <td>7039.8</td>\n",
       "      <td>26538.8</td>\n",
       "      <td>149071.2</td>\n",
       "      <td>240196.4</td>\n",
       "      <td>425168.0</td>\n",
       "      <td>0.016174</td>\n",
       "    </tr>\n",
       "    <tr>\n",
       "      <th>3</th>\n",
       "      <td>Austria</td>\n",
       "      <td>1242177.8</td>\n",
       "      <td>1570187.8</td>\n",
       "      <td>1820801.4</td>\n",
       "      <td>2260183.4</td>\n",
       "      <td>1474437.2</td>\n",
       "      <td>8367787.6</td>\n",
       "      <td>552.6</td>\n",
       "      <td>1666.8</td>\n",
       "      <td>6745.8</td>\n",
       "      <td>38611.2</td>\n",
       "      <td>69033.6</td>\n",
       "      <td>116610.0</td>\n",
       "      <td>0.013936</td>\n",
       "    </tr>\n",
       "    <tr>\n",
       "      <th>4</th>\n",
       "      <td>Bahrain</td>\n",
       "      <td>180708.6</td>\n",
       "      <td>161927.0</td>\n",
       "      <td>110782.4</td>\n",
       "      <td>92510.2</td>\n",
       "      <td>23760.8</td>\n",
       "      <td>569689.0</td>\n",
       "      <td>61.2</td>\n",
       "      <td>86.6</td>\n",
       "      <td>234.4</td>\n",
       "      <td>715.2</td>\n",
       "      <td>545.8</td>\n",
       "      <td>1643.2</td>\n",
       "      <td>0.002884</td>\n",
       "    </tr>\n",
       "  </tbody>\n",
       "</table>\n",
       "</div>"
      ],
      "text/plain": [
       "  country_name      P0_14     P15_29     P30_44     P45_64        P65  \\\n",
       "0      Algeria   338603.0   380581.0   221287.4   156217.6    58953.8   \n",
       "1    Argentina  1363473.2  1362708.8   995826.8   955536.4   476624.2   \n",
       "2    Australia  4999918.4  5577377.0  5553157.8  6588836.2  3567685.4   \n",
       "3      Austria  1242177.8  1570187.8  1820801.4  2260183.4  1474437.2   \n",
       "4      Bahrain   180708.6   161927.0   110782.4    92510.2    23760.8   \n",
       "\n",
       "    TOTAL_POP   N0_14  N15_29   N30_44    N45_64       N65  TOTAL_CASES  \\\n",
       "0   1155642.8    73.2   150.2    389.0     900.6     793.4       2306.4   \n",
       "1   5154169.4   505.8  1072.2   3325.0   14384.2   19659.6      38946.8   \n",
       "2  26286974.8  2321.8  7039.8  26538.8  149071.2  240196.4     425168.0   \n",
       "3   8367787.6   552.6  1666.8   6745.8   38611.2   69033.6     116610.0   \n",
       "4    569689.0    61.2    86.6    234.4     715.2     545.8       1643.2   \n",
       "\n",
       "   Incidence Per Capita  \n",
       "0              0.001996  \n",
       "1              0.007556  \n",
       "2              0.016174  \n",
       "3              0.013936  \n",
       "4              0.002884  "
      ]
     },
     "execution_count": 51,
     "metadata": {},
     "output_type": "execute_result"
    }
   ],
   "source": [
    "df_combo_country.head()"
   ]
  },
  {
   "cell_type": "code",
   "execution_count": 52,
   "metadata": {},
   "outputs": [],
   "source": [
    "df_plot = df_combo_country[df_combo_country['country_name'].isin(['United States','Canada','United Kingdom','France','Italy','Russia','Poland','China','Japan','India','Nigeria'])]"
   ]
  },
  {
   "cell_type": "code",
   "execution_count": 57,
   "metadata": {},
   "outputs": [
    {
     "data": {
      "text/plain": [
       "Text(0.5, 1.0, 'Cancer Incidence p/Capita (2008-2012)')"
      ]
     },
     "execution_count": 57,
     "metadata": {},
     "output_type": "execute_result"
    },
    {
     "data": {
      "image/png": "[encoded data removed]",
      "text/plain": [
       "<Figure size 720x360 with 1 Axes>"
      ]
     },
     "metadata": {
      "needs_background": "light"
     },
     "output_type": "display_data"
    }
   ],
   "source": [
    "fig, ax = plt.subplots(figsize=(10,5))\n",
    "x = np.arange(len(df_plot['country_name']))\n",
    "y = df_plot['Incidence Per Capita']\n",
    "ax.bar(x, y, alpha = 0.4)\n",
    "ax.set_xticks(x)\n",
    "ax.set_xticklabels(df_plot['country_name'],rotation = 60,)\n",
    "ax.set_ylabel('Cancer Incidence p/Capita')\n",
    "fig.tight_layout()\n",
    "ax.set_title('Cancer Incidence p/Capita (2008-2012)')"
   ]
  },
  {
   "cell_type": "code",
   "execution_count": null,
   "metadata": {},
   "outputs": [],
   "source": []
  }
 ],
 "metadata": {
  "kernelspec": {
   "display_name": "Python 3",
   "language": "python",
   "name": "python3"
  },
  "language_info": {
   "codemirror_mode": {
    "name": "ipython",
    "version": 3
   },
   "file_extension": ".py",
   "mimetype": "text/x-python",
   "name": "python",
   "nbconvert_exporter": "python",
   "pygments_lexer": "ipython3",
   "version": "3.7.9"
  }
 },
 "nbformat": 4,
 "nbformat_minor": 4
}
