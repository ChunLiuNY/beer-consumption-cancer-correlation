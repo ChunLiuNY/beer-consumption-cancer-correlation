{
 "cells": [
  {
   "cell_type": "code",
   "execution_count": 43,
   "metadata": {},
   "outputs": [],
   "source": [
    "import pandas as pd\n",
    "import numpy as np\n",
    "import scipy.stats as stats\n",
    "import matplotlib.pyplot as plt\n",
    "\n",
    "df_registry = pd.read_csv(\"../data/clean_registry.csv\")\n",
    "df_cases = pd.read_csv(\"../data/clean_cases.csv\")\n",
    "df_pop = pd.read_csv(\"../data/clean_pop.csv\")\n",
    "df_beer = pd.read_csv(\"../data/beer-consumption-per-person.csv\")"
   ]
  },
  {
   "cell_type": "code",
   "execution_count": 169,
   "metadata": {},
   "outputs": [],
   "source": [
    "plt.style.use('ggplot')"
   ]
  },
  {
   "cell_type": "markdown",
   "metadata": {},
   "source": [
    "## Data Munging"
   ]
  },
  {
   "cell_type": "code",
   "execution_count": 110,
   "metadata": {},
   "outputs": [],
   "source": [
    "df_beer.columns = ['Entity','Code','Year','Consumption']"
   ]
  },
  {
   "cell_type": "code",
   "execution_count": 44,
   "metadata": {},
   "outputs": [],
   "source": [
    "def df_by_registry(df):\n",
    "    '''\n",
    "    aggregate data by registry and remove not important columns\n",
    "    '''\n",
    "    df_new = df.groupby('REGISTRY').sum().iloc[:,2:].reset_index()\n",
    "    return df_new\n",
    "    \n",
    "def annualize_case_data(df_cases):\n",
    "    '''\n",
    "    annualze data by dividing by 5 as we have 5 years of data\n",
    "    '''\n",
    "    df_cases['TOTAL_CASES'] = df_cases['TOTAL'] / 5\n",
    "    df_cases['N0_14'] = df_cases['N0_14'] / 5\n",
    "    df_cases['N15_29'] = df_cases['N15_29'] / 5\n",
    "    df_cases['N30_44'] = df_cases['N30_44'] / 5\n",
    "    df_cases['N45_64'] = df_cases['N45_64'] / 5\n",
    "    df_cases['N65'] = df_cases['N65'] / 5\n",
    "    return df_cases\n",
    "\n",
    "def annualize_pop_data(df_pop):\n",
    "    '''\n",
    "    annualze data by dividing by 5 as we have 5 years of data\n",
    "    '''\n",
    "    df_pop['TOTAL_POP'] = df_pop['TOTAL'] / 5\n",
    "    df_pop['P0_14'] = df_pop['P0_14'] / 5\n",
    "    df_pop['P15_29'] = df_pop['P15_29'] / 5\n",
    "    df_pop['P30_44'] = df_pop['P30_44'] / 5\n",
    "    df_pop['P45_64'] = df_pop['P45_64'] / 5\n",
    "    df_pop['P65'] = df_pop['P65'] / 5\n",
    "    return df_pop\n",
    "\n",
    "def munge_cases(df_cases):\n",
    "    df_cases_1 = df_by_registry(df_cases)\n",
    "    df_cases_new = annualize_case_data(df_cases_1)\n",
    "    return df_cases_new\n",
    "    \n",
    "def munge_pop(df_pop):\n",
    "    df_pop_1 = df_by_registry(df_pop)\n",
    "    df_pop_new = annualize_pop_data(df_pop_1)\n",
    "    return df_pop_new\n",
    "\n",
    "def combine_data(df_cases,df_pop,df_registry):\n",
    "    df_cases_new = munge_cases(df_cases)\n",
    "    df_pop_new = munge_pop(df_pop)\n",
    "    df_pop_reg = df_pop_new.merge(df_registry, on = 'REGISTRY',suffixes=('', '_reg'))\n",
    "    df_combo = df_pop_reg.merge(df_cases_new, on = 'REGISTRY',suffixes=('', '_cases'))\n",
    "    return df_combo"
   ]
  },
  {
   "cell_type": "code",
   "execution_count": 45,
   "metadata": {},
   "outputs": [],
   "source": [
    "df_combo = combine_data(df_cases,df_pop,df_registry)"
   ]
  },
  {
   "cell_type": "code",
   "execution_count": 46,
   "metadata": {},
   "outputs": [],
   "source": [
    "df_combo.drop(['TOTAL','country_long','star','is_national','is_national_exists','is_subset','TOTAL_cases'],axis = 1, inplace = True)"
   ]
  },
  {
   "cell_type": "code",
   "execution_count": 205,
   "metadata": {},
   "outputs": [],
   "source": [
    "df_combo['Incidence Per Capita'] = df_combo['TOTAL_CASES'] / df_combo['TOTAL_POP']"
   ]
  },
  {
   "cell_type": "code",
   "execution_count": 206,
   "metadata": {},
   "outputs": [
    {
     "data": {
      "text/html": [
       "<div>\n",
       "<style scoped>\n",
       "    .dataframe tbody tr th:only-of-type {\n",
       "        vertical-align: middle;\n",
       "    }\n",
       "\n",
       "    .dataframe tbody tr th {\n",
       "        vertical-align: top;\n",
       "    }\n",
       "\n",
       "    .dataframe thead th {\n",
       "        text-align: right;\n",
       "    }\n",
       "</style>\n",
       "<table border=\"1\" class=\"dataframe\">\n",
       "  <thead>\n",
       "    <tr style=\"text-align: right;\">\n",
       "      <th></th>\n",
       "      <th>REGISTRY</th>\n",
       "      <th>P0_14</th>\n",
       "      <th>P15_29</th>\n",
       "      <th>P30_44</th>\n",
       "      <th>P45_64</th>\n",
       "      <th>P65</th>\n",
       "      <th>TOTAL_POP</th>\n",
       "      <th>country_region</th>\n",
       "      <th>country_name</th>\n",
       "      <th>N0_14</th>\n",
       "      <th>N15_29</th>\n",
       "      <th>N30_44</th>\n",
       "      <th>N45_64</th>\n",
       "      <th>N65</th>\n",
       "      <th>TOTAL_CASES</th>\n",
       "      <th>Incidence Per Capita</th>\n",
       "    </tr>\n",
       "  </thead>\n",
       "  <tbody>\n",
       "    <tr>\n",
       "      <th>0</th>\n",
       "      <td>101200399</td>\n",
       "      <td>338603.0</td>\n",
       "      <td>380581.0</td>\n",
       "      <td>221287.4</td>\n",
       "      <td>156217.6</td>\n",
       "      <td>58953.8</td>\n",
       "      <td>1155642.8</td>\n",
       "      <td>Algeria, Batna</td>\n",
       "      <td>Algeria</td>\n",
       "      <td>73.2</td>\n",
       "      <td>150.2</td>\n",
       "      <td>389.0</td>\n",
       "      <td>900.6</td>\n",
       "      <td>793.4</td>\n",
       "      <td>2306.4</td>\n",
       "      <td>0.001996</td>\n",
       "    </tr>\n",
       "    <tr>\n",
       "      <th>1</th>\n",
       "      <td>140400299</td>\n",
       "      <td>951003.0</td>\n",
       "      <td>1210213.0</td>\n",
       "      <td>700362.0</td>\n",
       "      <td>238030.0</td>\n",
       "      <td>35190.0</td>\n",
       "      <td>3134798.0</td>\n",
       "      <td>Kenya, Nairobi</td>\n",
       "      <td>Kenya</td>\n",
       "      <td>270.2</td>\n",
       "      <td>450.2</td>\n",
       "      <td>1320.4</td>\n",
       "      <td>2276.0</td>\n",
       "      <td>1379.6</td>\n",
       "      <td>5696.4</td>\n",
       "      <td>0.001817</td>\n",
       "    </tr>\n",
       "    <tr>\n",
       "      <th>2</th>\n",
       "      <td>169000099</td>\n",
       "      <td>15823.6</td>\n",
       "      <td>17052.6</td>\n",
       "      <td>17238.2</td>\n",
       "      <td>14990.0</td>\n",
       "      <td>5497.8</td>\n",
       "      <td>70602.2</td>\n",
       "      <td>Seychelles</td>\n",
       "      <td>Seychelles</td>\n",
       "      <td>2.4</td>\n",
       "      <td>10.2</td>\n",
       "      <td>28.6</td>\n",
       "      <td>162.8</td>\n",
       "      <td>173.8</td>\n",
       "      <td>377.8</td>\n",
       "      <td>0.005351</td>\n",
       "    </tr>\n",
       "    <tr>\n",
       "      <th>3</th>\n",
       "      <td>171000199</td>\n",
       "      <td>434720.2</td>\n",
       "      <td>299955.2</td>\n",
       "      <td>131712.4</td>\n",
       "      <td>134614.2</td>\n",
       "      <td>72407.0</td>\n",
       "      <td>1073409.0</td>\n",
       "      <td>South Africa, Eastern Cape</td>\n",
       "      <td>South Africa</td>\n",
       "      <td>36.6</td>\n",
       "      <td>95.6</td>\n",
       "      <td>309.6</td>\n",
       "      <td>779.8</td>\n",
       "      <td>792.8</td>\n",
       "      <td>2014.4</td>\n",
       "      <td>0.001877</td>\n",
       "    </tr>\n",
       "    <tr>\n",
       "      <th>4</th>\n",
       "      <td>171600270</td>\n",
       "      <td>288098.6</td>\n",
       "      <td>304815.0</td>\n",
       "      <td>187895.2</td>\n",
       "      <td>74049.2</td>\n",
       "      <td>18448.0</td>\n",
       "      <td>873306.0</td>\n",
       "      <td>Zimbabwe, Harare: African</td>\n",
       "      <td>Zimbabwe</td>\n",
       "      <td>106.8</td>\n",
       "      <td>214.2</td>\n",
       "      <td>805.8</td>\n",
       "      <td>1120.0</td>\n",
       "      <td>984.8</td>\n",
       "      <td>3397.8</td>\n",
       "      <td>0.003891</td>\n",
       "    </tr>\n",
       "  </tbody>\n",
       "</table>\n",
       "</div>"
      ],
      "text/plain": [
       "    REGISTRY     P0_14     P15_29    P30_44    P45_64      P65  TOTAL_POP  \\\n",
       "0  101200399  338603.0   380581.0  221287.4  156217.6  58953.8  1155642.8   \n",
       "1  140400299  951003.0  1210213.0  700362.0  238030.0  35190.0  3134798.0   \n",
       "2  169000099   15823.6    17052.6   17238.2   14990.0   5497.8    70602.2   \n",
       "3  171000199  434720.2   299955.2  131712.4  134614.2  72407.0  1073409.0   \n",
       "4  171600270  288098.6   304815.0  187895.2   74049.2  18448.0   873306.0   \n",
       "\n",
       "               country_region  country_name  N0_14  N15_29  N30_44  N45_64  \\\n",
       "0              Algeria, Batna       Algeria   73.2   150.2   389.0   900.6   \n",
       "1              Kenya, Nairobi         Kenya  270.2   450.2  1320.4  2276.0   \n",
       "2                  Seychelles    Seychelles    2.4    10.2    28.6   162.8   \n",
       "3  South Africa, Eastern Cape  South Africa   36.6    95.6   309.6   779.8   \n",
       "4   Zimbabwe, Harare: African      Zimbabwe  106.8   214.2   805.8  1120.0   \n",
       "\n",
       "      N65  TOTAL_CASES  Incidence Per Capita  \n",
       "0   793.4       2306.4              0.001996  \n",
       "1  1379.6       5696.4              0.001817  \n",
       "2   173.8        377.8              0.005351  \n",
       "3   792.8       2014.4              0.001877  \n",
       "4   984.8       3397.8              0.003891  "
      ]
     },
     "execution_count": 206,
     "metadata": {},
     "output_type": "execute_result"
    }
   ],
   "source": [
    "df_combo.head()"
   ]
  },
  {
   "cell_type": "markdown",
   "metadata": {},
   "source": [
    "#### Country Level & Incidence rate"
   ]
  },
  {
   "cell_type": "code",
   "execution_count": 49,
   "metadata": {},
   "outputs": [],
   "source": [
    "#aggregate by country & add incidence rate\n",
    "#average annualized data from 2008-2012\n",
    "df_combo_country = df_combo.groupby('country_name').sum().iloc[:,1:].reset_index()\n",
    "df_combo_country['Incidence Per Capita'] = df_combo_country['TOTAL_CASES'] / df_combo_country['TOTAL_POP']"
   ]
  },
  {
   "cell_type": "code",
   "execution_count": 136,
   "metadata": {},
   "outputs": [
    {
     "data": {
      "text/html": [
       "<div>\n",
       "<style scoped>\n",
       "    .dataframe tbody tr th:only-of-type {\n",
       "        vertical-align: middle;\n",
       "    }\n",
       "\n",
       "    .dataframe tbody tr th {\n",
       "        vertical-align: top;\n",
       "    }\n",
       "\n",
       "    .dataframe thead th {\n",
       "        text-align: right;\n",
       "    }\n",
       "</style>\n",
       "<table border=\"1\" class=\"dataframe\">\n",
       "  <thead>\n",
       "    <tr style=\"text-align: right;\">\n",
       "      <th></th>\n",
       "      <th>country_name</th>\n",
       "      <th>P0_14</th>\n",
       "      <th>P15_29</th>\n",
       "      <th>P30_44</th>\n",
       "      <th>P45_64</th>\n",
       "      <th>P65</th>\n",
       "      <th>TOTAL_POP</th>\n",
       "      <th>N0_14</th>\n",
       "      <th>N15_29</th>\n",
       "      <th>N30_44</th>\n",
       "      <th>N45_64</th>\n",
       "      <th>N65</th>\n",
       "      <th>TOTAL_CASES</th>\n",
       "      <th>Incidence Per Capita</th>\n",
       "    </tr>\n",
       "  </thead>\n",
       "  <tbody>\n",
       "    <tr>\n",
       "      <th>0</th>\n",
       "      <td>Algeria</td>\n",
       "      <td>338603.0</td>\n",
       "      <td>380581.0</td>\n",
       "      <td>221287.4</td>\n",
       "      <td>156217.6</td>\n",
       "      <td>58953.8</td>\n",
       "      <td>1155642.8</td>\n",
       "      <td>73.2</td>\n",
       "      <td>150.2</td>\n",
       "      <td>389.0</td>\n",
       "      <td>900.6</td>\n",
       "      <td>793.4</td>\n",
       "      <td>2306.4</td>\n",
       "      <td>0.001996</td>\n",
       "    </tr>\n",
       "    <tr>\n",
       "      <th>1</th>\n",
       "      <td>Argentina</td>\n",
       "      <td>1363473.2</td>\n",
       "      <td>1362708.8</td>\n",
       "      <td>995826.8</td>\n",
       "      <td>955536.4</td>\n",
       "      <td>476624.2</td>\n",
       "      <td>5154169.4</td>\n",
       "      <td>505.8</td>\n",
       "      <td>1072.2</td>\n",
       "      <td>3325.0</td>\n",
       "      <td>14384.2</td>\n",
       "      <td>19659.6</td>\n",
       "      <td>38946.8</td>\n",
       "      <td>0.007556</td>\n",
       "    </tr>\n",
       "    <tr>\n",
       "      <th>2</th>\n",
       "      <td>Australia</td>\n",
       "      <td>4999918.4</td>\n",
       "      <td>5577377.0</td>\n",
       "      <td>5553157.8</td>\n",
       "      <td>6588836.2</td>\n",
       "      <td>3567685.4</td>\n",
       "      <td>26286974.8</td>\n",
       "      <td>2321.8</td>\n",
       "      <td>7039.8</td>\n",
       "      <td>26538.8</td>\n",
       "      <td>149071.2</td>\n",
       "      <td>240196.4</td>\n",
       "      <td>425168.0</td>\n",
       "      <td>0.016174</td>\n",
       "    </tr>\n",
       "    <tr>\n",
       "      <th>3</th>\n",
       "      <td>Austria</td>\n",
       "      <td>1242177.8</td>\n",
       "      <td>1570187.8</td>\n",
       "      <td>1820801.4</td>\n",
       "      <td>2260183.4</td>\n",
       "      <td>1474437.2</td>\n",
       "      <td>8367787.6</td>\n",
       "      <td>552.6</td>\n",
       "      <td>1666.8</td>\n",
       "      <td>6745.8</td>\n",
       "      <td>38611.2</td>\n",
       "      <td>69033.6</td>\n",
       "      <td>116610.0</td>\n",
       "      <td>0.013936</td>\n",
       "    </tr>\n",
       "    <tr>\n",
       "      <th>4</th>\n",
       "      <td>Bahrain</td>\n",
       "      <td>180708.6</td>\n",
       "      <td>161927.0</td>\n",
       "      <td>110782.4</td>\n",
       "      <td>92510.2</td>\n",
       "      <td>23760.8</td>\n",
       "      <td>569689.0</td>\n",
       "      <td>61.2</td>\n",
       "      <td>86.6</td>\n",
       "      <td>234.4</td>\n",
       "      <td>715.2</td>\n",
       "      <td>545.8</td>\n",
       "      <td>1643.2</td>\n",
       "      <td>0.002884</td>\n",
       "    </tr>\n",
       "  </tbody>\n",
       "</table>\n",
       "</div>"
      ],
      "text/plain": [
       "  country_name      P0_14     P15_29     P30_44     P45_64        P65  \\\n",
       "0      Algeria   338603.0   380581.0   221287.4   156217.6    58953.8   \n",
       "1    Argentina  1363473.2  1362708.8   995826.8   955536.4   476624.2   \n",
       "2    Australia  4999918.4  5577377.0  5553157.8  6588836.2  3567685.4   \n",
       "3      Austria  1242177.8  1570187.8  1820801.4  2260183.4  1474437.2   \n",
       "4      Bahrain   180708.6   161927.0   110782.4    92510.2    23760.8   \n",
       "\n",
       "    TOTAL_POP   N0_14  N15_29   N30_44    N45_64       N65  TOTAL_CASES  \\\n",
       "0   1155642.8    73.2   150.2    389.0     900.6     793.4       2306.4   \n",
       "1   5154169.4   505.8  1072.2   3325.0   14384.2   19659.6      38946.8   \n",
       "2  26286974.8  2321.8  7039.8  26538.8  149071.2  240196.4     425168.0   \n",
       "3   8367787.6   552.6  1666.8   6745.8   38611.2   69033.6     116610.0   \n",
       "4    569689.0    61.2    86.6    234.4     715.2     545.8       1643.2   \n",
       "\n",
       "   Incidence Per Capita  \n",
       "0              0.001996  \n",
       "1              0.007556  \n",
       "2              0.016174  \n",
       "3              0.013936  \n",
       "4              0.002884  "
      ]
     },
     "execution_count": 136,
     "metadata": {},
     "output_type": "execute_result"
    }
   ],
   "source": [
    "df_combo_country.head()"
   ]
  },
  {
   "cell_type": "markdown",
   "metadata": {},
   "source": [
    "## Insights from Data"
   ]
  },
  {
   "cell_type": "code",
   "execution_count": 106,
   "metadata": {},
   "outputs": [],
   "source": [
    "#top 10 countries with the highest incidence rate\n",
    "df_plot_top_10 = df_combo_country.sort_values('Incidence Per Capita',ascending = False).head(10)"
   ]
  },
  {
   "cell_type": "code",
   "execution_count": 185,
   "metadata": {},
   "outputs": [
    {
     "data": {
      "text/plain": [
       "Text(0.5, 1.0, 'Cancer Incidence p/Capita (2008-2012) - Top 10 Countries')"
      ]
     },
     "execution_count": 185,
     "metadata": {},
     "output_type": "execute_result"
    },
    {
     "data": {
      "image/png": "[encoded data removed]",
      "text/plain": [
       "<Figure size 720x360 with 1 Axes>"
      ]
     },
     "metadata": {},
     "output_type": "display_data"
    }
   ],
   "source": [
    "fig, ax = plt.subplots(figsize=(10,5))\n",
    "x = df_plot_top_10['country_name']\n",
    "y = df_plot_top_10['Incidence Per Capita']\n",
    "ax.barh(x,y, alpha = 0.8, color = 'grey')\n",
    "ax.invert_yaxis()\n",
    "#ax.set_xticks(x)\n",
    "#ax.set_xticklabels(df_plot_top_10['country_name'],rotation = 60)\n",
    "#ax.set_ylabel('Cancer Incidence p/Capita')\n",
    "fig.tight_layout()\n",
    "ax.set_title('Cancer Incidence p/Capita (2008-2012) - Top 10 Countries')"
   ]
  },
  {
   "cell_type": "code",
   "execution_count": 87,
   "metadata": {},
   "outputs": [],
   "source": [
    "#incidence rate for five continents\n",
    "df_na = df_combo_country[df_combo_country['country_name'].isin(['United States','Canada','Costa Rica','Jamaica'])]\n",
    "df_we = df_combo_country[df_combo_country['country_name'].isin(['Belgium','Denmark','France','Germany','Iceland','Ireland','Italy','Netherlands','Norway','Portugal','Spain','Switzerland','United Kingdom'])]\n",
    "df_ee = df_combo_country[df_combo_country['country_name'].isin(['Austria','Belarus','Bulgaria','Croatia','Czech Republic','Estonia','Lithuania','Poland','Russian Federation','Slovenia','Ukraine'])]\n",
    "df_sa = df_combo_country[df_combo_country['country_name'].isin(['Argentina','Brazil','Chile','Colombia','Ecuador','Peru','Uruguay'])]\n",
    "df_asia = df_combo_country[df_combo_country['country_name'].isin(['China','India','Japan','Malaysia','Philippines','Sounth Korea','Thailand','Viet Nam'])]\n",
    "df_africa = df_combo_country[df_combo_country['country_name'].isin(['Algeria','Kenya','South Africa','Uganda'])]"
   ]
  },
  {
   "cell_type": "code",
   "execution_count": 94,
   "metadata": {},
   "outputs": [
    {
     "name": "stdout",
     "output_type": "stream",
     "text": [
      "0.014602426678548662\n",
      "0.01768465539225183\n",
      "0.012794195311719114\n",
      "0.007220337031638623\n",
      "0.009299164374037211\n",
      "0.001945002053826044\n",
      "0.014226249303042771\n"
     ]
    }
   ],
   "source": [
    "print(df_na['TOTAL_CASES'].sum()/df_na['TOTAL_POP'].sum())\n",
    "print(df_we['TOTAL_CASES'].sum()/df_we['TOTAL_POP'].sum())\n",
    "print(df_ee['TOTAL_CASES'].sum()/df_ee['TOTAL_POP'].sum())\n",
    "print(df_sa['TOTAL_CASES'].sum()/df_sa['TOTAL_POP'].sum())\n",
    "print(df_asia['TOTAL_CASES'].sum()/df_asia['TOTAL_POP'].sum())\n",
    "print(df_africa['TOTAL_CASES'].sum()/df_africa['TOTAL_POP'].sum())\n",
    "print(df_combo_country['TOTAL_CASES'].sum()/df_combo_country['TOTAL_POP'].sum())"
   ]
  },
  {
   "cell_type": "code",
   "execution_count": 95,
   "metadata": {},
   "outputs": [],
   "source": [
    "df_plot_geo = pd.DataFrame({\n",
    "    'Continent': ['Northern America','Western Europe','Eastern Europe','South America','Asia','Africa','World'],\n",
    "    'Incidence Per Capita': [0.0146,0.0177,0.0128,0.0072,0.0093,0.0019,0.0142]\n",
    "})"
   ]
  },
  {
   "cell_type": "code",
   "execution_count": 187,
   "metadata": {},
   "outputs": [
    {
     "data": {
      "text/plain": [
       "Text(0.5, 1.0, 'Cancer Incidence p/Capita (2008-2012)')"
      ]
     },
     "execution_count": 187,
     "metadata": {},
     "output_type": "execute_result"
    },
    {
     "data": {
      "image/png": "[encoded data removed]",
      "text/plain": [
       "<Figure size 720x360 with 1 Axes>"
      ]
     },
     "metadata": {},
     "output_type": "display_data"
    }
   ],
   "source": [
    "fig, ax = plt.subplots(figsize=(10,5))\n",
    "x = df_plot_geo['Continent']\n",
    "y = df_plot_geo['Incidence Per Capita']\n",
    "ax.bar(x,y,color = 'grey')\n",
    "barlist = ax.bar(x,y)\n",
    "barlist[-1].set_color('grey')\n",
    "ax.set_xticks(x)\n",
    "ax.set_xticklabels(df_plot_geo['Continent'],rotation = 60)\n",
    "ax.set_ylabel('Cancer Incidence p/Capita')\n",
    "fig.tight_layout()\n",
    "ax.set_title('Cancer Incidence p/Capita (2008-2012)')"
   ]
  },
  {
   "cell_type": "code",
   "execution_count": 111,
   "metadata": {},
   "outputs": [
    {
     "data": {
      "text/html": [
       "<div>\n",
       "<style scoped>\n",
       "    .dataframe tbody tr th:only-of-type {\n",
       "        vertical-align: middle;\n",
       "    }\n",
       "\n",
       "    .dataframe tbody tr th {\n",
       "        vertical-align: top;\n",
       "    }\n",
       "\n",
       "    .dataframe thead th {\n",
       "        text-align: right;\n",
       "    }\n",
       "</style>\n",
       "<table border=\"1\" class=\"dataframe\">\n",
       "  <thead>\n",
       "    <tr style=\"text-align: right;\">\n",
       "      <th></th>\n",
       "      <th>Entity</th>\n",
       "      <th>Code</th>\n",
       "      <th>Year</th>\n",
       "      <th>Consumption</th>\n",
       "    </tr>\n",
       "  </thead>\n",
       "  <tbody>\n",
       "    <tr>\n",
       "      <th>0</th>\n",
       "      <td>Afghanistan</td>\n",
       "      <td>AFG</td>\n",
       "      <td>1961</td>\n",
       "      <td>0.0</td>\n",
       "    </tr>\n",
       "    <tr>\n",
       "      <th>1</th>\n",
       "      <td>Afghanistan</td>\n",
       "      <td>AFG</td>\n",
       "      <td>1962</td>\n",
       "      <td>0.0</td>\n",
       "    </tr>\n",
       "    <tr>\n",
       "      <th>2</th>\n",
       "      <td>Afghanistan</td>\n",
       "      <td>AFG</td>\n",
       "      <td>1963</td>\n",
       "      <td>0.0</td>\n",
       "    </tr>\n",
       "    <tr>\n",
       "      <th>3</th>\n",
       "      <td>Afghanistan</td>\n",
       "      <td>AFG</td>\n",
       "      <td>1964</td>\n",
       "      <td>0.0</td>\n",
       "    </tr>\n",
       "    <tr>\n",
       "      <th>4</th>\n",
       "      <td>Afghanistan</td>\n",
       "      <td>AFG</td>\n",
       "      <td>1965</td>\n",
       "      <td>0.0</td>\n",
       "    </tr>\n",
       "  </tbody>\n",
       "</table>\n",
       "</div>"
      ],
      "text/plain": [
       "        Entity Code  Year  Consumption\n",
       "0  Afghanistan  AFG  1961          0.0\n",
       "1  Afghanistan  AFG  1962          0.0\n",
       "2  Afghanistan  AFG  1963          0.0\n",
       "3  Afghanistan  AFG  1964          0.0\n",
       "4  Afghanistan  AFG  1965          0.0"
      ]
     },
     "execution_count": 111,
     "metadata": {},
     "output_type": "execute_result"
    }
   ],
   "source": [
    "df_beer.sort_values('Consump')"
   ]
  },
  {
   "cell_type": "code",
   "execution_count": 112,
   "metadata": {},
   "outputs": [],
   "source": [
    "Denmark = df_beer[df_beer['Entity'] == 'Denmark']\n",
    "Germany = df_beer[df_beer['Entity'] == 'Germany']\n",
    "Belgium = df_beer[df_beer['Entity'] == 'Belgium']\n",
    "Italy = df_beer[df_beer['Entity'] == 'Italy']\n",
    "Japan = df_beer[df_beer['Entity'] == 'Japan']\n",
    "Czech = df_beer[df_beer['Entity'] == 'Czech Republic']\n",
    "Switzerland = df_beer[df_beer['Entity'] == 'Switzerland']\n",
    "Slovenia = df_beer[df_beer['Entity'] == 'Slovenia']\n",
    "Netherlands = df_beer[df_beer['Entity'] == 'Netherlands']\n",
    "Lithuania = df_beer[df_beer['Entity'] == 'Lithuania']"
   ]
  },
  {
   "cell_type": "code",
   "execution_count": 190,
   "metadata": {},
   "outputs": [
    {
     "data": {
      "text/plain": [
       "[<matplotlib.axis.XTick at 0x7fca10c1be10>,\n",
       " <matplotlib.axis.XTick at 0x7fca10c1b810>,\n",
       " <matplotlib.axis.XTick at 0x7fca10c1b390>,\n",
       " <matplotlib.axis.XTick at 0x7fca10e31d90>,\n",
       " <matplotlib.axis.XTick at 0x7fca10e44190>,\n",
       " <matplotlib.axis.XTick at 0x7fca10e44810>,\n",
       " <matplotlib.axis.XTick at 0x7fca10e447d0>,\n",
       " <matplotlib.axis.XTick at 0x7fca10e4c1d0>,\n",
       " <matplotlib.axis.XTick at 0x7fca10e4c710>,\n",
       " <matplotlib.axis.XTick at 0x7fca10e4c090>,\n",
       " <matplotlib.axis.XTick at 0x7fca10e55190>,\n",
       " <matplotlib.axis.XTick at 0x7fca10e556d0>,\n",
       " <matplotlib.axis.XTick at 0x7fca10e44790>,\n",
       " <matplotlib.axis.XTick at 0x7fca10e55050>,\n",
       " <matplotlib.axis.XTick at 0x7fca10e55a90>,\n",
       " <matplotlib.axis.XTick at 0x7fca10e600d0>,\n",
       " <matplotlib.axis.XTick at 0x7fca10e60550>,\n",
       " <matplotlib.axis.XTick at 0x7fca10e60a90>,\n",
       " <matplotlib.axis.XTick at 0x7fca10e670d0>]"
      ]
     },
     "execution_count": 190,
     "metadata": {},
     "output_type": "execute_result"
    },
    {
     "data": {
      "image/png": "[encoded data removed]",
      "text/plain": [
       "<Figure size 1440x576 with 1 Axes>"
      ]
     },
     "metadata": {},
     "output_type": "display_data"
    }
   ],
   "source": [
    "fig, ax = plt.subplots(figsize=(20,8))\n",
    "ax.plot(Denmark['Year'],Denmark['Consumption'],label = 'Denmark')\n",
    "ax.plot(Germany['Year'],Germany['Consumption'],label = 'Germany')\n",
    "ax.plot(Belgium['Year'],Belgium['Consumption'],label = 'Belgium')\n",
    "ax.plot(Italy['Year'],Italy['Consumption'],label = 'Italy')\n",
    "ax.plot(Japan['Year'],Japan['Consumption'],label = 'Japan')\n",
    "ax.plot(Czech['Year'],Czech['Consumption'],label = 'Czech Republic')\n",
    "ax.plot(Switzerland['Year'],Switzerland['Consumption'],label = 'Switzerland')\n",
    "ax.plot(Slovenia['Year'],Slovenia['Consumption'],label = 'Slovenia')\n",
    "ax.plot(Netherlands['Year'],Netherlands['Consumption'],label = 'Netherlands')\n",
    "ax.plot(Lithuania['Year'],Lithuania['Consumption'],label = 'Lithuania')\n",
    "ax.set_title('Beer Consumption by Country')\n",
    "ax.set_xlabel('Year')\n",
    "ax.set_ylabel('Beer Consumption per Person')\n",
    "ax.legend()\n",
    "\n",
    "x_ticks = np.arange(df_beer['Year'].min(), df_beer['Year'].max(), 3)\n",
    "ax.set_xticks(x_ticks)"
   ]
  },
  {
   "cell_type": "code",
   "execution_count": 126,
   "metadata": {},
   "outputs": [],
   "source": [
    "df_test = df_beer.groupby('Entity').sum().iloc[:,0].reset_index()['Entity']"
   ]
  },
  {
   "cell_type": "code",
   "execution_count": 127,
   "metadata": {},
   "outputs": [
    {
     "name": "stdout",
     "output_type": "stream",
     "text": [
      "Afghanistan\n",
      "Albania\n",
      "Algeria\n",
      "Andorra\n",
      "Angola\n",
      "Antigua and Barbuda\n",
      "Argentina\n",
      "Armenia\n",
      "Australia\n",
      "Austria\n",
      "Azerbaijan\n",
      "Bahamas\n",
      "Bahrain\n",
      "Bangladesh\n",
      "Barbados\n",
      "Belarus\n",
      "Belgium\n",
      "Belize\n",
      "Benin\n",
      "Bhutan\n",
      "Bolivia\n",
      "Bosnia and Herzegovina\n",
      "Botswana\n",
      "Brazil\n",
      "Brunei\n",
      "Bulgaria\n",
      "Burkina Faso\n",
      "Burundi\n",
      "Cambodia\n",
      "Cameroon\n",
      "Canada\n",
      "Cape Verde\n",
      "Central African Republic\n",
      "Chad\n",
      "Chile\n",
      "China\n",
      "Colombia\n",
      "Comoros\n",
      "Congo\n",
      "Cook Islands\n",
      "Costa Rica\n",
      "Cote d'Ivoire\n",
      "Croatia\n",
      "Cuba\n",
      "Cyprus\n",
      "Czechia\n",
      "Democratic Republic of Congo\n",
      "Denmark\n",
      "Djibouti\n",
      "Dominica\n",
      "Dominican Republic\n",
      "Ecuador\n",
      "Egypt\n",
      "El Salvador\n",
      "Equatorial Guinea\n",
      "Eritrea\n",
      "Estonia\n",
      "Eswatini\n",
      "Ethiopia\n",
      "Fiji\n",
      "Finland\n",
      "France\n",
      "Gabon\n",
      "Gambia\n",
      "Georgia\n",
      "Germany\n",
      "Ghana\n",
      "Greece\n",
      "Grenada\n",
      "Guatemala\n",
      "Guinea\n",
      "Guinea-Bissau\n",
      "Guyana\n",
      "Haiti\n",
      "Honduras\n",
      "Hungary\n",
      "Iceland\n",
      "India\n",
      "Indonesia\n",
      "Iran\n",
      "Iraq\n",
      "Ireland\n",
      "Israel\n",
      "Italy\n",
      "Jamaica\n",
      "Japan\n",
      "Jordan\n",
      "Kazakhstan\n",
      "Kenya\n",
      "Kiribati\n",
      "Kuwait\n",
      "Kyrgyzstan\n",
      "Laos\n",
      "Latvia\n",
      "Lebanon\n",
      "Lesotho\n",
      "Liberia\n",
      "Libya\n",
      "Lithuania\n",
      "Luxembourg\n",
      "Madagascar\n",
      "Malawi\n",
      "Malaysia\n",
      "Maldives\n",
      "Mali\n",
      "Malta\n",
      "Mauritania\n",
      "Mauritius\n",
      "Mexico\n",
      "Micronesia (country)\n",
      "Moldova\n",
      "Mongolia\n",
      "Montenegro\n",
      "Morocco\n",
      "Mozambique\n",
      "Myanmar\n",
      "Namibia\n",
      "Nauru\n",
      "Nepal\n",
      "Netherlands\n",
      "New Zealand\n",
      "Nicaragua\n",
      "Niger\n",
      "Nigeria\n",
      "Niue\n",
      "North Korea\n",
      "North Macedonia\n",
      "Norway\n",
      "Oman\n",
      "Pakistan\n",
      "Panama\n",
      "Papua New Guinea\n",
      "Paraguay\n",
      "Peru\n",
      "Philippines\n",
      "Poland\n",
      "Portugal\n",
      "Qatar\n",
      "Romania\n",
      "Russia\n",
      "Rwanda\n",
      "Saint Kitts and Nevis\n",
      "Saint Lucia\n",
      "Saint Vincent and the Grenadines\n",
      "Samoa\n",
      "Sao Tome and Principe\n",
      "Saudi Arabia\n",
      "Senegal\n",
      "Serbia\n",
      "Seychelles\n",
      "Sierra Leone\n",
      "Singapore\n",
      "Slovakia\n",
      "Slovenia\n",
      "Solomon Islands\n",
      "Somalia\n",
      "South Africa\n",
      "South Korea\n",
      "Spain\n",
      "Sri Lanka\n",
      "Sudan\n",
      "Suriname\n",
      "Sweden\n",
      "Switzerland\n",
      "Syria\n",
      "Tajikistan\n",
      "Tanzania\n",
      "Thailand\n",
      "Timor\n",
      "Togo\n",
      "Tonga\n",
      "Trinidad and Tobago\n",
      "Tunisia\n",
      "Turkey\n",
      "Turkmenistan\n",
      "Tuvalu\n",
      "Uganda\n",
      "Ukraine\n",
      "United Arab Emirates\n",
      "United Kingdom\n",
      "United States\n",
      "Uruguay\n",
      "Uzbekistan\n",
      "Vanuatu\n",
      "Venezuela\n",
      "Vietnam\n",
      "Yemen\n",
      "Zambia\n",
      "Zimbabwe\n"
     ]
    }
   ],
   "source": [
    "for i in range(len(df_test)):\n",
    "    print(df_test[i])"
   ]
  },
  {
   "cell_type": "code",
   "execution_count": 150,
   "metadata": {},
   "outputs": [
    {
     "name": "stdout",
     "output_type": "stream",
     "text": [
      "Algeria\n",
      "Argentina\n",
      "Australia\n",
      "Austria\n",
      "Bahrain\n",
      "Belarus\n",
      "Belgium\n",
      "Brazil\n",
      "Brunei\n",
      "Bulgaria\n",
      "Canada\n",
      "Chile\n",
      "China\n",
      "Colombia\n",
      "Costa Rica\n",
      "Croatia\n",
      "Cyprus\n",
      "Czechia\n",
      "Denmark\n",
      "Ecuador\n",
      "Estonia\n",
      "France\n",
      "French Guiana\n",
      "Germany\n",
      "Iceland\n",
      "India\n",
      "Iran\n",
      "Ireland\n",
      "Israel\n",
      "Italy\n",
      "Jamaica\n",
      "Japan\n",
      "Jordan\n",
      "Kenya\n",
      "Kuwait\n",
      "Latvia\n",
      "Lithuania\n",
      "Malaysia\n",
      "Malta\n",
      "Netherlands\n",
      "New Caledonia\n",
      "New Zealand\n",
      "Norway\n",
      "Peru\n",
      "Philippines\n",
      "Poland\n",
      "Portugal\n",
      "Qatar\n",
      "Russia\n",
      "Saudi Arabia\n",
      "Seychelles\n",
      "Slovakia\n",
      "Slovenia\n",
      "Sounth Korea\n",
      "South Africa\n",
      "Spain\n",
      "Switzerland\n",
      "Thailand\n",
      "Turkey\n",
      "Uganda\n",
      "Ukraine\n",
      "United Kingdom\n",
      "United States\n",
      "Uruguay\n",
      "Vietnam\n",
      "Zimbabwe\n"
     ]
    }
   ],
   "source": [
    "for i in range(len(df_combo_country['country_name'])):\n",
    "    print(df_combo_country['country_name'][i])"
   ]
  },
  {
   "cell_type": "code",
   "execution_count": null,
   "metadata": {},
   "outputs": [],
   "source": [
    "#cancer type\n",
    "#age group"
   ]
  },
  {
   "cell_type": "markdown",
   "metadata": {},
   "source": [
    "## Combine Cancer data and Beer data"
   ]
  },
  {
   "cell_type": "code",
   "execution_count": 145,
   "metadata": {},
   "outputs": [],
   "source": [
    "df_beer_08 = df_beer[df_beer['Year'] == 2008]"
   ]
  },
  {
   "cell_type": "code",
   "execution_count": 165,
   "metadata": {},
   "outputs": [],
   "source": [
    "def std_country_name(col):\n",
    "    dict = {\n",
    "        'Brunei Darussalam': 'Brunei',\n",
    "        'Czech Republic': 'Czechia',\n",
    "        'Russian Federation': 'Russia',\n",
    "        'Viet Nam': 'Vietnam'\n",
    "    }\n",
    "    if (dict.get(col) == None):\n",
    "        return col\n",
    "    else:\n",
    "        return dict.get(col)\n",
    "    \n",
    "def identify_continent(col):\n",
    "#     dict = {\n",
    "#         'Northern America': ['United States','Canada','Costa Rica','Jamaica'],\n",
    "#         'Western Europe': ['Belgium','Denmark','France','Germany','Iceland','Ireland','Italy','Netherlands','Norway','Portugal','Spain','Switzerland','United Kingdom'],\n",
    "#         'Eastern Europe': ['Austria','Belarus','Bulgaria','Croatia','Czechia','Estonia','Lithuania','Poland','Russia','Slovenia','Ukraine'],\n",
    "#         'South America': ['Argentina','Brazil','Chile','Colombia','Ecuador','Peru','Uruguay'],\n",
    "#         'Asia': ['China','India','Japan','Malaysia','Philippines','Sounth Korea','Thailand','Vietnam'],\n",
    "#         'Africa': ['Algeria','Kenya','South Africa','Uganda']\n",
    "#     }\n",
    "    if col in ['United States','Canada','Costa Rica','Jamaica']:\n",
    "        return 'Northern America'\n",
    "    elif col in ['Belgium','Denmark','France','Germany','Iceland','Ireland','Italy','Netherlands','Norway','Portugal','Spain','Switzerland','United Kingdom']:\n",
    "        return 'Western Europe'\n",
    "    elif col in ['Austria','Belarus','Bulgaria','Croatia','Czechia','Estonia','Lithuania','Poland','Russia','Slovenia','Ukraine']:\n",
    "        return 'Eastern Europe'\n",
    "    elif col in ['Argentina','Brazil','Chile','Colombia','Ecuador','Peru','Uruguay']:\n",
    "        return 'South America'\n",
    "    elif col in ['China','India','Japan','Malaysia','Philippines','Sounth Korea','Thailand','Vietnam']:\n",
    "        return 'Asia'\n",
    "    elif col in ['Algeria','Kenya','South Africa','Uganda']:\n",
    "        return 'Africa'\n",
    "    else:\n",
    "        return 'NA'"
   ]
  },
  {
   "cell_type": "code",
   "execution_count": 149,
   "metadata": {},
   "outputs": [],
   "source": [
    "df_combo_country['country_name'] = list(map(std_country_name,df_combo_country['country_name']))"
   ]
  },
  {
   "cell_type": "code",
   "execution_count": 207,
   "metadata": {},
   "outputs": [],
   "source": [
    "df_combo['country_name'] = list(map(std_country_name,df_combo['country_name']))"
   ]
  },
  {
   "cell_type": "code",
   "execution_count": 151,
   "metadata": {},
   "outputs": [],
   "source": [
    "##combine cancer data and beer data (country level)\n",
    "df_stats = df_combo_country.merge(df_beer_08,how = 'inner', left_on = 'country_name',right_on = 'Entity',suffixes=['','_exists'])\n",
    "df_stats['Continent'] = list(map(identify_continent,df_stats['country_name']))"
   ]
  },
  {
   "cell_type": "code",
   "execution_count": 210,
   "metadata": {},
   "outputs": [],
   "source": [
    "##combine cancer data and beer data (registry level)\n",
    "df_stats_reg = df_combo.merge(df_beer_08,how = 'left', left_on = 'country_name',right_on = 'Entity',suffixes=['','_exists'])\n",
    "df_stats_reg['Continent'] = list(map(identify_continent,df_stats_reg['country_name']))"
   ]
  },
  {
   "cell_type": "code",
   "execution_count": 167,
   "metadata": {},
   "outputs": [
    {
     "data": {
      "text/html": [
       "<div>\n",
       "<style scoped>\n",
       "    .dataframe tbody tr th:only-of-type {\n",
       "        vertical-align: middle;\n",
       "    }\n",
       "\n",
       "    .dataframe tbody tr th {\n",
       "        vertical-align: top;\n",
       "    }\n",
       "\n",
       "    .dataframe thead th {\n",
       "        text-align: right;\n",
       "    }\n",
       "</style>\n",
       "<table border=\"1\" class=\"dataframe\">\n",
       "  <thead>\n",
       "    <tr style=\"text-align: right;\">\n",
       "      <th></th>\n",
       "      <th>country_name</th>\n",
       "      <th>P0_14</th>\n",
       "      <th>P15_29</th>\n",
       "      <th>P30_44</th>\n",
       "      <th>P45_64</th>\n",
       "      <th>P65</th>\n",
       "      <th>TOTAL_POP</th>\n",
       "      <th>N0_14</th>\n",
       "      <th>N15_29</th>\n",
       "      <th>N30_44</th>\n",
       "      <th>N45_64</th>\n",
       "      <th>N65</th>\n",
       "      <th>TOTAL_CASES</th>\n",
       "      <th>Incidence Per Capita</th>\n",
       "      <th>Entity</th>\n",
       "      <th>Code</th>\n",
       "      <th>Year</th>\n",
       "      <th>Consumption</th>\n",
       "      <th>Continent</th>\n",
       "    </tr>\n",
       "  </thead>\n",
       "  <tbody>\n",
       "    <tr>\n",
       "      <th>0</th>\n",
       "      <td>Algeria</td>\n",
       "      <td>338603.0</td>\n",
       "      <td>380581.0</td>\n",
       "      <td>221287.4</td>\n",
       "      <td>156217.6</td>\n",
       "      <td>58953.8</td>\n",
       "      <td>1155642.8</td>\n",
       "      <td>73.2</td>\n",
       "      <td>150.2</td>\n",
       "      <td>389.0</td>\n",
       "      <td>900.6</td>\n",
       "      <td>793.4</td>\n",
       "      <td>2306.4</td>\n",
       "      <td>0.001996</td>\n",
       "      <td>Algeria</td>\n",
       "      <td>DZA</td>\n",
       "      <td>2008</td>\n",
       "      <td>0.20</td>\n",
       "      <td>Africa</td>\n",
       "    </tr>\n",
       "    <tr>\n",
       "      <th>1</th>\n",
       "      <td>Argentina</td>\n",
       "      <td>1363473.2</td>\n",
       "      <td>1362708.8</td>\n",
       "      <td>995826.8</td>\n",
       "      <td>955536.4</td>\n",
       "      <td>476624.2</td>\n",
       "      <td>5154169.4</td>\n",
       "      <td>505.8</td>\n",
       "      <td>1072.2</td>\n",
       "      <td>3325.0</td>\n",
       "      <td>14384.2</td>\n",
       "      <td>19659.6</td>\n",
       "      <td>38946.8</td>\n",
       "      <td>0.007556</td>\n",
       "      <td>Argentina</td>\n",
       "      <td>ARG</td>\n",
       "      <td>2008</td>\n",
       "      <td>3.16</td>\n",
       "      <td>South America</td>\n",
       "    </tr>\n",
       "    <tr>\n",
       "      <th>2</th>\n",
       "      <td>Australia</td>\n",
       "      <td>4999918.4</td>\n",
       "      <td>5577377.0</td>\n",
       "      <td>5553157.8</td>\n",
       "      <td>6588836.2</td>\n",
       "      <td>3567685.4</td>\n",
       "      <td>26286974.8</td>\n",
       "      <td>2321.8</td>\n",
       "      <td>7039.8</td>\n",
       "      <td>26538.8</td>\n",
       "      <td>149071.2</td>\n",
       "      <td>240196.4</td>\n",
       "      <td>425168.0</td>\n",
       "      <td>0.016174</td>\n",
       "      <td>Australia</td>\n",
       "      <td>AUS</td>\n",
       "      <td>2008</td>\n",
       "      <td>4.69</td>\n",
       "      <td>NA</td>\n",
       "    </tr>\n",
       "    <tr>\n",
       "      <th>3</th>\n",
       "      <td>Austria</td>\n",
       "      <td>1242177.8</td>\n",
       "      <td>1570187.8</td>\n",
       "      <td>1820801.4</td>\n",
       "      <td>2260183.4</td>\n",
       "      <td>1474437.2</td>\n",
       "      <td>8367787.6</td>\n",
       "      <td>552.6</td>\n",
       "      <td>1666.8</td>\n",
       "      <td>6745.8</td>\n",
       "      <td>38611.2</td>\n",
       "      <td>69033.6</td>\n",
       "      <td>116610.0</td>\n",
       "      <td>0.013936</td>\n",
       "      <td>Austria</td>\n",
       "      <td>AUT</td>\n",
       "      <td>2008</td>\n",
       "      <td>6.40</td>\n",
       "      <td>Eastern Europe</td>\n",
       "    </tr>\n",
       "    <tr>\n",
       "      <th>4</th>\n",
       "      <td>Bahrain</td>\n",
       "      <td>180708.6</td>\n",
       "      <td>161927.0</td>\n",
       "      <td>110782.4</td>\n",
       "      <td>92510.2</td>\n",
       "      <td>23760.8</td>\n",
       "      <td>569689.0</td>\n",
       "      <td>61.2</td>\n",
       "      <td>86.6</td>\n",
       "      <td>234.4</td>\n",
       "      <td>715.2</td>\n",
       "      <td>545.8</td>\n",
       "      <td>1643.2</td>\n",
       "      <td>0.002884</td>\n",
       "      <td>Bahrain</td>\n",
       "      <td>BHR</td>\n",
       "      <td>2008</td>\n",
       "      <td>0.47</td>\n",
       "      <td>NA</td>\n",
       "    </tr>\n",
       "  </tbody>\n",
       "</table>\n",
       "</div>"
      ],
      "text/plain": [
       "  country_name      P0_14     P15_29     P30_44     P45_64        P65  \\\n",
       "0      Algeria   338603.0   380581.0   221287.4   156217.6    58953.8   \n",
       "1    Argentina  1363473.2  1362708.8   995826.8   955536.4   476624.2   \n",
       "2    Australia  4999918.4  5577377.0  5553157.8  6588836.2  3567685.4   \n",
       "3      Austria  1242177.8  1570187.8  1820801.4  2260183.4  1474437.2   \n",
       "4      Bahrain   180708.6   161927.0   110782.4    92510.2    23760.8   \n",
       "\n",
       "    TOTAL_POP   N0_14  N15_29   N30_44    N45_64       N65  TOTAL_CASES  \\\n",
       "0   1155642.8    73.2   150.2    389.0     900.6     793.4       2306.4   \n",
       "1   5154169.4   505.8  1072.2   3325.0   14384.2   19659.6      38946.8   \n",
       "2  26286974.8  2321.8  7039.8  26538.8  149071.2  240196.4     425168.0   \n",
       "3   8367787.6   552.6  1666.8   6745.8   38611.2   69033.6     116610.0   \n",
       "4    569689.0    61.2    86.6    234.4     715.2     545.8       1643.2   \n",
       "\n",
       "   Incidence Per Capita     Entity Code  Year  Consumption       Continent  \n",
       "0              0.001996    Algeria  DZA  2008         0.20          Africa  \n",
       "1              0.007556  Argentina  ARG  2008         3.16   South America  \n",
       "2              0.016174  Australia  AUS  2008         4.69              NA  \n",
       "3              0.013936    Austria  AUT  2008         6.40  Eastern Europe  \n",
       "4              0.002884    Bahrain  BHR  2008         0.47              NA  "
      ]
     },
     "execution_count": 167,
     "metadata": {},
     "output_type": "execute_result"
    }
   ],
   "source": [
    "df_stats.head()"
   ]
  },
  {
   "cell_type": "code",
   "execution_count": 168,
   "metadata": {},
   "outputs": [],
   "source": [
    "df_stats.to_csv(r'/Users/chun/Galvanize/capstones/capstone1-time-spleeping-cancer-correlation/data/combo_final.csv',index = False, header = True)"
   ]
  },
  {
   "cell_type": "code",
   "execution_count": 214,
   "metadata": {},
   "outputs": [],
   "source": [
    "df_stats_reg.to_csv(r'/Users/chun/Galvanize/capstones/capstone1-time-spleeping-cancer-correlation/data/combo_reg_final.csv',index = False, header = True)"
   ]
  },
  {
   "cell_type": "code",
   "execution_count": 193,
   "metadata": {},
   "outputs": [
    {
     "data": {
      "text/plain": [
       "3.2074999999999996"
      ]
     },
     "execution_count": 193,
     "metadata": {},
     "output_type": "execute_result"
    }
   ],
   "source": [
    "df_stats[df_stats['Continent'] == 'Northern America']['Consumption'].mean()"
   ]
  },
  {
   "cell_type": "code",
   "execution_count": 192,
   "metadata": {},
   "outputs": [
    {
     "data": {
      "text/plain": [
       "4.531551785877295"
      ]
     },
     "execution_count": 192,
     "metadata": {},
     "output_type": "execute_result"
    }
   ],
   "source": [
    "np.average(df_stats[df_stats['Continent'] == 'Northern America']['Consumption'], weights = df_stats[df_stats['Continent'] == 'Northern America']['TOTAL_POP'],axis = 0)"
   ]
  },
  {
   "cell_type": "code",
   "execution_count": 194,
   "metadata": {},
   "outputs": [],
   "source": [
    "#incidence rate for five continents\n",
    "df_na_1 = df_stats[df_stats['Continent'] == 'Northern America']\n",
    "df_we_1 = df_stats[df_stats['Continent'] == 'Western Europe']\n",
    "df_ee_1 = df_stats[df_stats['Continent'] == 'Eastern Europe']\n",
    "df_sa_1 = df_stats[df_stats['Continent'] == 'South America']\n",
    "df_asia_1 = df_stats[df_stats['Continent'] == 'Asia']\n",
    "df_africa_1 = df_stats[df_stats['Continent'] == 'Africa']"
   ]
  },
  {
   "cell_type": "code",
   "execution_count": 197,
   "metadata": {},
   "outputs": [
    {
     "name": "stdout",
     "output_type": "stream",
     "text": [
      "4.531551785877295\n",
      "4.353131544353921\n",
      "4.470229369470876\n",
      "2.8068952929615723\n",
      "1.1324185598229666\n",
      "1.1781752612071554\n",
      "4.223280513612876\n"
     ]
    }
   ],
   "source": [
    "print(np.average(df_na_1['Consumption'], weights = df_na_1['TOTAL_POP'],axis = 0))\n",
    "print(np.average(df_we_1['Consumption'], weights = df_we_1['TOTAL_POP'],axis = 0))\n",
    "print(np.average(df_ee_1['Consumption'], weights = df_ee_1['TOTAL_POP'],axis = 0))\n",
    "print(np.average(df_sa_1['Consumption'], weights = df_sa_1['TOTAL_POP'],axis = 0))\n",
    "print(np.average(df_asia_1['Consumption'], weights = df_asia_1['TOTAL_POP'],axis = 0))\n",
    "print(np.average(df_africa_1['Consumption'], weights = df_africa_1['TOTAL_POP'],axis = 0))\n",
    "print(np.average(df_stats['Consumption'], weights = df_stats['TOTAL_POP'],axis = 0))"
   ]
  },
  {
   "cell_type": "code",
   "execution_count": 198,
   "metadata": {},
   "outputs": [],
   "source": [
    "df_plot_geo_1 = pd.DataFrame({\n",
    "    'Continent': ['Northern America','Western Europe','Eastern Europe','South America','Asia','Africa','World'],\n",
    "    'Beer Consumption per Person': [4.5316,4.3531,4.4702,2.8069,1.1324,1.1782,4.2233]\n",
    "})"
   ]
  },
  {
   "cell_type": "code",
   "execution_count": 202,
   "metadata": {},
   "outputs": [
    {
     "data": {
      "text/plain": [
       "Text(0.5, 1.0, 'Beer Consumption per Person (2008)')"
      ]
     },
     "execution_count": 202,
     "metadata": {},
     "output_type": "execute_result"
    },
    {
     "data": {
      "image/png": "[encoded data removed]",
      "text/plain": [
       "<Figure size 720x360 with 1 Axes>"
      ]
     },
     "metadata": {},
     "output_type": "display_data"
    }
   ],
   "source": [
    "fig, ax = plt.subplots(figsize=(10,5))\n",
    "x = df_plot_geo_1['Continent']\n",
    "y = df_plot_geo_1['Beer Consumption per Person']\n",
    "ax.bar(x,y)\n",
    "barlist = ax.bar(x,y)\n",
    "barlist[-1].set_color('orange')\n",
    "ax.set_xticks(x)\n",
    "ax.set_xticklabels(df_plot_geo_1['Continent'],rotation = 60)\n",
    "ax.set_ylabel('Beer Consumption per Person')\n",
    "fig.tight_layout()\n",
    "ax.set_title('Beer Consumption per Person (2008)')"
   ]
  },
  {
   "cell_type": "code",
   "execution_count": null,
   "metadata": {},
   "outputs": [],
   "source": []
  }
 ],
 "metadata": {
  "kernelspec": {
   "display_name": "Python 3",
   "language": "python",
   "name": "python3"
  },
  "language_info": {
   "codemirror_mode": {
    "name": "ipython",
    "version": 3
   },
   "file_extension": ".py",
   "mimetype": "text/x-python",
   "name": "python",
   "nbconvert_exporter": "python",
   "pygments_lexer": "ipython3",
   "version": "3.7.9"
  }
 },
 "nbformat": 4,
 "nbformat_minor": 4
}
