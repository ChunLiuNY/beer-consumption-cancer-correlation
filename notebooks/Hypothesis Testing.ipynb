{
 "cells": [
  {
   "cell_type": "code",
   "execution_count": 1,
   "metadata": {},
   "outputs": [],
   "source": [
    "import pandas as pd\n",
    "import numpy as np\n",
    "import scipy.stats as stats\n",
    "import matplotlib.pyplot as plt\n",
    "plt.style.use('ggplot')\n",
    "\n",
    "##country level data\n",
    "df_stats = pd.read_csv(\"../data/combo_final.csv\")\n",
    "##registry level data\n",
    "df_stats_reg = pd.read_csv(\"../data/combo_reg_final.csv\")"
   ]
  },
  {
   "cell_type": "code",
   "execution_count": 40,
   "metadata": {
    "scrolled": true
   },
   "outputs": [
    {
     "data": {
      "text/html": [
       "<div>\n",
       "<style scoped>\n",
       "    .dataframe tbody tr th:only-of-type {\n",
       "        vertical-align: middle;\n",
       "    }\n",
       "\n",
       "    .dataframe tbody tr th {\n",
       "        vertical-align: top;\n",
       "    }\n",
       "\n",
       "    .dataframe thead th {\n",
       "        text-align: right;\n",
       "    }\n",
       "</style>\n",
       "<table border=\"1\" class=\"dataframe\">\n",
       "  <thead>\n",
       "    <tr style=\"text-align: right;\">\n",
       "      <th></th>\n",
       "      <th>country_name</th>\n",
       "      <th>P0_14</th>\n",
       "      <th>P15_29</th>\n",
       "      <th>P30_44</th>\n",
       "      <th>P45_64</th>\n",
       "      <th>P65</th>\n",
       "      <th>TOTAL_POP</th>\n",
       "      <th>N0_14</th>\n",
       "      <th>N15_29</th>\n",
       "      <th>N30_44</th>\n",
       "      <th>N45_64</th>\n",
       "      <th>N65</th>\n",
       "      <th>TOTAL_CASES</th>\n",
       "      <th>Incidence Per Capita</th>\n",
       "      <th>Entity</th>\n",
       "      <th>Code</th>\n",
       "      <th>Year</th>\n",
       "      <th>Consumption</th>\n",
       "      <th>Continent</th>\n",
       "    </tr>\n",
       "  </thead>\n",
       "  <tbody>\n",
       "    <tr>\n",
       "      <th>0</th>\n",
       "      <td>Algeria</td>\n",
       "      <td>338603.0</td>\n",
       "      <td>380581.0</td>\n",
       "      <td>221287.4</td>\n",
       "      <td>156217.6</td>\n",
       "      <td>58953.8</td>\n",
       "      <td>1155642.8</td>\n",
       "      <td>73.2</td>\n",
       "      <td>150.2</td>\n",
       "      <td>389.0</td>\n",
       "      <td>900.6</td>\n",
       "      <td>793.4</td>\n",
       "      <td>2306.4</td>\n",
       "      <td>0.001996</td>\n",
       "      <td>Algeria</td>\n",
       "      <td>DZA</td>\n",
       "      <td>2008</td>\n",
       "      <td>0.20</td>\n",
       "      <td>Africa</td>\n",
       "    </tr>\n",
       "    <tr>\n",
       "      <th>1</th>\n",
       "      <td>Argentina</td>\n",
       "      <td>1363473.2</td>\n",
       "      <td>1362708.8</td>\n",
       "      <td>995826.8</td>\n",
       "      <td>955536.4</td>\n",
       "      <td>476624.2</td>\n",
       "      <td>5154169.4</td>\n",
       "      <td>505.8</td>\n",
       "      <td>1072.2</td>\n",
       "      <td>3325.0</td>\n",
       "      <td>14384.2</td>\n",
       "      <td>19659.6</td>\n",
       "      <td>38946.8</td>\n",
       "      <td>0.007556</td>\n",
       "      <td>Argentina</td>\n",
       "      <td>ARG</td>\n",
       "      <td>2008</td>\n",
       "      <td>3.16</td>\n",
       "      <td>South America</td>\n",
       "    </tr>\n",
       "    <tr>\n",
       "      <th>2</th>\n",
       "      <td>Australia</td>\n",
       "      <td>4999918.4</td>\n",
       "      <td>5577377.0</td>\n",
       "      <td>5553157.8</td>\n",
       "      <td>6588836.2</td>\n",
       "      <td>3567685.4</td>\n",
       "      <td>26286974.8</td>\n",
       "      <td>2321.8</td>\n",
       "      <td>7039.8</td>\n",
       "      <td>26538.8</td>\n",
       "      <td>149071.2</td>\n",
       "      <td>240196.4</td>\n",
       "      <td>425168.0</td>\n",
       "      <td>0.016174</td>\n",
       "      <td>Australia</td>\n",
       "      <td>AUS</td>\n",
       "      <td>2008</td>\n",
       "      <td>4.69</td>\n",
       "      <td>NaN</td>\n",
       "    </tr>\n",
       "    <tr>\n",
       "      <th>3</th>\n",
       "      <td>Austria</td>\n",
       "      <td>1242177.8</td>\n",
       "      <td>1570187.8</td>\n",
       "      <td>1820801.4</td>\n",
       "      <td>2260183.4</td>\n",
       "      <td>1474437.2</td>\n",
       "      <td>8367787.6</td>\n",
       "      <td>552.6</td>\n",
       "      <td>1666.8</td>\n",
       "      <td>6745.8</td>\n",
       "      <td>38611.2</td>\n",
       "      <td>69033.6</td>\n",
       "      <td>116610.0</td>\n",
       "      <td>0.013936</td>\n",
       "      <td>Austria</td>\n",
       "      <td>AUT</td>\n",
       "      <td>2008</td>\n",
       "      <td>6.40</td>\n",
       "      <td>Eastern Europe</td>\n",
       "    </tr>\n",
       "    <tr>\n",
       "      <th>4</th>\n",
       "      <td>Bahrain</td>\n",
       "      <td>180708.6</td>\n",
       "      <td>161927.0</td>\n",
       "      <td>110782.4</td>\n",
       "      <td>92510.2</td>\n",
       "      <td>23760.8</td>\n",
       "      <td>569689.0</td>\n",
       "      <td>61.2</td>\n",
       "      <td>86.6</td>\n",
       "      <td>234.4</td>\n",
       "      <td>715.2</td>\n",
       "      <td>545.8</td>\n",
       "      <td>1643.2</td>\n",
       "      <td>0.002884</td>\n",
       "      <td>Bahrain</td>\n",
       "      <td>BHR</td>\n",
       "      <td>2008</td>\n",
       "      <td>0.47</td>\n",
       "      <td>NaN</td>\n",
       "    </tr>\n",
       "  </tbody>\n",
       "</table>\n",
       "</div>"
      ],
      "text/plain": [
       "  country_name      P0_14     P15_29     P30_44     P45_64        P65  \\\n",
       "0      Algeria   338603.0   380581.0   221287.4   156217.6    58953.8   \n",
       "1    Argentina  1363473.2  1362708.8   995826.8   955536.4   476624.2   \n",
       "2    Australia  4999918.4  5577377.0  5553157.8  6588836.2  3567685.4   \n",
       "3      Austria  1242177.8  1570187.8  1820801.4  2260183.4  1474437.2   \n",
       "4      Bahrain   180708.6   161927.0   110782.4    92510.2    23760.8   \n",
       "\n",
       "    TOTAL_POP   N0_14  N15_29   N30_44    N45_64       N65  TOTAL_CASES  \\\n",
       "0   1155642.8    73.2   150.2    389.0     900.6     793.4       2306.4   \n",
       "1   5154169.4   505.8  1072.2   3325.0   14384.2   19659.6      38946.8   \n",
       "2  26286974.8  2321.8  7039.8  26538.8  149071.2  240196.4     425168.0   \n",
       "3   8367787.6   552.6  1666.8   6745.8   38611.2   69033.6     116610.0   \n",
       "4    569689.0    61.2    86.6    234.4     715.2     545.8       1643.2   \n",
       "\n",
       "   Incidence Per Capita     Entity Code  Year  Consumption       Continent  \n",
       "0              0.001996    Algeria  DZA  2008         0.20          Africa  \n",
       "1              0.007556  Argentina  ARG  2008         3.16   South America  \n",
       "2              0.016174  Australia  AUS  2008         4.69             NaN  \n",
       "3              0.013936    Austria  AUT  2008         6.40  Eastern Europe  \n",
       "4              0.002884    Bahrain  BHR  2008         0.47             NaN  "
      ]
     },
     "execution_count": 40,
     "metadata": {},
     "output_type": "execute_result"
    }
   ],
   "source": [
    "df_stats.head()"
   ]
  },
  {
   "cell_type": "code",
   "execution_count": 39,
   "metadata": {},
   "outputs": [
    {
     "data": {
      "text/html": [
       "<div>\n",
       "<style scoped>\n",
       "    .dataframe tbody tr th:only-of-type {\n",
       "        vertical-align: middle;\n",
       "    }\n",
       "\n",
       "    .dataframe tbody tr th {\n",
       "        vertical-align: top;\n",
       "    }\n",
       "\n",
       "    .dataframe thead th {\n",
       "        text-align: right;\n",
       "    }\n",
       "</style>\n",
       "<table border=\"1\" class=\"dataframe\">\n",
       "  <thead>\n",
       "    <tr style=\"text-align: right;\">\n",
       "      <th></th>\n",
       "      <th>REGISTRY</th>\n",
       "      <th>P0_14</th>\n",
       "      <th>P15_29</th>\n",
       "      <th>P30_44</th>\n",
       "      <th>P45_64</th>\n",
       "      <th>P65</th>\n",
       "      <th>TOTAL_POP</th>\n",
       "      <th>country_region</th>\n",
       "      <th>country_name</th>\n",
       "      <th>N0_14</th>\n",
       "      <th>...</th>\n",
       "      <th>N30_44</th>\n",
       "      <th>N45_64</th>\n",
       "      <th>N65</th>\n",
       "      <th>TOTAL_CASES</th>\n",
       "      <th>Incidence Per Capita</th>\n",
       "      <th>Entity</th>\n",
       "      <th>Code</th>\n",
       "      <th>Year</th>\n",
       "      <th>Consumption</th>\n",
       "      <th>Continent</th>\n",
       "    </tr>\n",
       "  </thead>\n",
       "  <tbody>\n",
       "    <tr>\n",
       "      <th>0</th>\n",
       "      <td>101200399</td>\n",
       "      <td>338603.0</td>\n",
       "      <td>380581.0</td>\n",
       "      <td>221287.4</td>\n",
       "      <td>156217.6</td>\n",
       "      <td>58953.8</td>\n",
       "      <td>1155642.8</td>\n",
       "      <td>Algeria, Batna</td>\n",
       "      <td>Algeria</td>\n",
       "      <td>73.2</td>\n",
       "      <td>...</td>\n",
       "      <td>389.0</td>\n",
       "      <td>900.6</td>\n",
       "      <td>793.4</td>\n",
       "      <td>2306.4</td>\n",
       "      <td>0.001996</td>\n",
       "      <td>Algeria</td>\n",
       "      <td>DZA</td>\n",
       "      <td>2008.0</td>\n",
       "      <td>0.20</td>\n",
       "      <td>Africa</td>\n",
       "    </tr>\n",
       "    <tr>\n",
       "      <th>1</th>\n",
       "      <td>140400299</td>\n",
       "      <td>951003.0</td>\n",
       "      <td>1210213.0</td>\n",
       "      <td>700362.0</td>\n",
       "      <td>238030.0</td>\n",
       "      <td>35190.0</td>\n",
       "      <td>3134798.0</td>\n",
       "      <td>Kenya, Nairobi</td>\n",
       "      <td>Kenya</td>\n",
       "      <td>270.2</td>\n",
       "      <td>...</td>\n",
       "      <td>1320.4</td>\n",
       "      <td>2276.0</td>\n",
       "      <td>1379.6</td>\n",
       "      <td>5696.4</td>\n",
       "      <td>0.001817</td>\n",
       "      <td>Kenya</td>\n",
       "      <td>KEN</td>\n",
       "      <td>2008.0</td>\n",
       "      <td>1.05</td>\n",
       "      <td>Africa</td>\n",
       "    </tr>\n",
       "    <tr>\n",
       "      <th>2</th>\n",
       "      <td>169000099</td>\n",
       "      <td>15823.6</td>\n",
       "      <td>17052.6</td>\n",
       "      <td>17238.2</td>\n",
       "      <td>14990.0</td>\n",
       "      <td>5497.8</td>\n",
       "      <td>70602.2</td>\n",
       "      <td>Seychelles</td>\n",
       "      <td>Seychelles</td>\n",
       "      <td>2.4</td>\n",
       "      <td>...</td>\n",
       "      <td>28.6</td>\n",
       "      <td>162.8</td>\n",
       "      <td>173.8</td>\n",
       "      <td>377.8</td>\n",
       "      <td>0.005351</td>\n",
       "      <td>Seychelles</td>\n",
       "      <td>SYC</td>\n",
       "      <td>2008.0</td>\n",
       "      <td>4.54</td>\n",
       "      <td>NaN</td>\n",
       "    </tr>\n",
       "    <tr>\n",
       "      <th>3</th>\n",
       "      <td>171000199</td>\n",
       "      <td>434720.2</td>\n",
       "      <td>299955.2</td>\n",
       "      <td>131712.4</td>\n",
       "      <td>134614.2</td>\n",
       "      <td>72407.0</td>\n",
       "      <td>1073409.0</td>\n",
       "      <td>South Africa, Eastern Cape</td>\n",
       "      <td>South Africa</td>\n",
       "      <td>36.6</td>\n",
       "      <td>...</td>\n",
       "      <td>309.6</td>\n",
       "      <td>779.8</td>\n",
       "      <td>792.8</td>\n",
       "      <td>2014.4</td>\n",
       "      <td>0.001877</td>\n",
       "      <td>South Africa</td>\n",
       "      <td>ZAF</td>\n",
       "      <td>2008.0</td>\n",
       "      <td>3.96</td>\n",
       "      <td>Africa</td>\n",
       "    </tr>\n",
       "    <tr>\n",
       "      <th>4</th>\n",
       "      <td>171600270</td>\n",
       "      <td>288098.6</td>\n",
       "      <td>304815.0</td>\n",
       "      <td>187895.2</td>\n",
       "      <td>74049.2</td>\n",
       "      <td>18448.0</td>\n",
       "      <td>873306.0</td>\n",
       "      <td>Zimbabwe, Harare: African</td>\n",
       "      <td>Zimbabwe</td>\n",
       "      <td>106.8</td>\n",
       "      <td>...</td>\n",
       "      <td>805.8</td>\n",
       "      <td>1120.0</td>\n",
       "      <td>984.8</td>\n",
       "      <td>3397.8</td>\n",
       "      <td>0.003891</td>\n",
       "      <td>Zimbabwe</td>\n",
       "      <td>ZWE</td>\n",
       "      <td>2008.0</td>\n",
       "      <td>1.47</td>\n",
       "      <td>NaN</td>\n",
       "    </tr>\n",
       "  </tbody>\n",
       "</table>\n",
       "<p>5 rows × 21 columns</p>\n",
       "</div>"
      ],
      "text/plain": [
       "    REGISTRY     P0_14     P15_29    P30_44    P45_64      P65  TOTAL_POP  \\\n",
       "0  101200399  338603.0   380581.0  221287.4  156217.6  58953.8  1155642.8   \n",
       "1  140400299  951003.0  1210213.0  700362.0  238030.0  35190.0  3134798.0   \n",
       "2  169000099   15823.6    17052.6   17238.2   14990.0   5497.8    70602.2   \n",
       "3  171000199  434720.2   299955.2  131712.4  134614.2  72407.0  1073409.0   \n",
       "4  171600270  288098.6   304815.0  187895.2   74049.2  18448.0   873306.0   \n",
       "\n",
       "               country_region  country_name  N0_14  ...  N30_44  N45_64  \\\n",
       "0              Algeria, Batna       Algeria   73.2  ...   389.0   900.6   \n",
       "1              Kenya, Nairobi         Kenya  270.2  ...  1320.4  2276.0   \n",
       "2                  Seychelles    Seychelles    2.4  ...    28.6   162.8   \n",
       "3  South Africa, Eastern Cape  South Africa   36.6  ...   309.6   779.8   \n",
       "4   Zimbabwe, Harare: African      Zimbabwe  106.8  ...   805.8  1120.0   \n",
       "\n",
       "      N65  TOTAL_CASES  Incidence Per Capita        Entity Code    Year  \\\n",
       "0   793.4       2306.4              0.001996       Algeria  DZA  2008.0   \n",
       "1  1379.6       5696.4              0.001817         Kenya  KEN  2008.0   \n",
       "2   173.8        377.8              0.005351    Seychelles  SYC  2008.0   \n",
       "3   792.8       2014.4              0.001877  South Africa  ZAF  2008.0   \n",
       "4   984.8       3397.8              0.003891      Zimbabwe  ZWE  2008.0   \n",
       "\n",
       "   Consumption  Continent  \n",
       "0         0.20     Africa  \n",
       "1         1.05     Africa  \n",
       "2         4.54        NaN  \n",
       "3         3.96     Africa  \n",
       "4         1.47        NaN  \n",
       "\n",
       "[5 rows x 21 columns]"
      ]
     },
     "execution_count": 39,
     "metadata": {},
     "output_type": "execute_result"
    }
   ],
   "source": [
    "df_stats_reg.head()"
   ]
  },
  {
   "cell_type": "markdown",
   "metadata": {},
   "source": [
    "### Pearson Correlation"
   ]
  },
  {
   "cell_type": "code",
   "execution_count": 44,
   "metadata": {},
   "outputs": [
    {
     "data": {
      "text/html": [
       "<div>\n",
       "<style scoped>\n",
       "    .dataframe tbody tr th:only-of-type {\n",
       "        vertical-align: middle;\n",
       "    }\n",
       "\n",
       "    .dataframe tbody tr th {\n",
       "        vertical-align: top;\n",
       "    }\n",
       "\n",
       "    .dataframe thead th {\n",
       "        text-align: right;\n",
       "    }\n",
       "</style>\n",
       "<table border=\"1\" class=\"dataframe\">\n",
       "  <thead>\n",
       "    <tr style=\"text-align: right;\">\n",
       "      <th></th>\n",
       "      <th>Incidence Per Capita</th>\n",
       "      <th>Consumption</th>\n",
       "    </tr>\n",
       "  </thead>\n",
       "  <tbody>\n",
       "    <tr>\n",
       "      <th>Incidence Per Capita</th>\n",
       "      <td>1.000000</td>\n",
       "      <td>0.723006</td>\n",
       "    </tr>\n",
       "    <tr>\n",
       "      <th>Consumption</th>\n",
       "      <td>0.723006</td>\n",
       "      <td>1.000000</td>\n",
       "    </tr>\n",
       "  </tbody>\n",
       "</table>\n",
       "</div>"
      ],
      "text/plain": [
       "                      Incidence Per Capita  Consumption\n",
       "Incidence Per Capita              1.000000     0.723006\n",
       "Consumption                       0.723006     1.000000"
      ]
     },
     "execution_count": 44,
     "metadata": {},
     "output_type": "execute_result"
    }
   ],
   "source": [
    "df_stats[['country_name','Incidence Per Capita','Consumption']].corr(method = 'pearson')"
   ]
  },
  {
   "cell_type": "code",
   "execution_count": 46,
   "metadata": {},
   "outputs": [
    {
     "data": {
      "text/plain": [
       "[<matplotlib.lines.Line2D at 0x7ff5fd976510>]"
      ]
     },
     "execution_count": 46,
     "metadata": {},
     "output_type": "execute_result"
    },
    {
     "data": {
      "image/png": "[encoded data removed]",
      "text/plain": [
       "<Figure size 720x360 with 2 Axes>"
      ]
     },
     "metadata": {},
     "output_type": "display_data"
    }
   ],
   "source": [
    "df_ranked = df_stats.sort_values('Incidence Per Capita').reset_index()\n",
    "fig, ax = plt.subplots(figsize = (10,5))\n",
    "x = np.arange(len(df_ranked['Incidence Per Capita']))\n",
    "y1 = df_ranked['Incidence Per Capita']\n",
    "y2 = df_ranked['Consumption']\n",
    "\n",
    "ax.set_title('Pearson Correlation')\n",
    "ax.scatter(x,y2,color = 'grey')\n",
    "ax.set_ylabel('Beer Consumption per Person')\n",
    "ax.set_xlabel('Cancer Incidence p/Capita')\n",
    "ax2 = ax.twinx()\n",
    "ax2.plot(x,y1)"
   ]
  },
  {
   "cell_type": "markdown",
   "metadata": {},
   "source": [
    "### Hypothesis Testing"
   ]
  },
  {
   "cell_type": "code",
   "execution_count": 57,
   "metadata": {},
   "outputs": [
    {
     "data": {
      "text/plain": [
       "Text(0.5, 1.0, 'Distribution of Cancer Incidence Per Capita')"
      ]
     },
     "execution_count": 57,
     "metadata": {},
     "output_type": "execute_result"
    },
    {
     "data": {
      "image/png": "[encoded data removed]",
      "text/plain": [
       "<Figure size 720x360 with 1 Axes>"
      ]
     },
     "metadata": {},
     "output_type": "display_data"
    }
   ],
   "source": [
    "#distribution of cancer incidence rate\n",
    "fig, ax = plt.subplots(figsize = (10,5))\n",
    "x = df_stats_reg['Incidence Per Capita']\n",
    "ax.hist(x)\n",
    "ax.set_title('Distribution of Cancer Incidence Per Capita')"
   ]
  },
  {
   "cell_type": "markdown",
   "metadata": {},
   "source": [
    "Null hypothesis: there is no difference in probability of getting cancer between people who drinks beer more than average and people who drinks beer less than average\n",
    "\n",
    "Alternative hypothesis: there is a difference based on beer consumption\n",
    "\n",
    "P1 = P(people who drinks beer less than average get cancer);\n",
    "P1 = P(people who drinks beer more than average get cancer)\n",
    "\n",
    "H0: P1 = P2;\n",
    "H1: P1 != P2"
   ]
  },
  {
   "cell_type": "code",
   "execution_count": 101,
   "metadata": {},
   "outputs": [],
   "source": [
    "alpha = 0.05"
   ]
  },
  {
   "cell_type": "code",
   "execution_count": 93,
   "metadata": {},
   "outputs": [],
   "source": [
    "#average beer consumption rate\n",
    "mean = df_stats_reg['Consumption'].mean()\n",
    "#sample one - people who drinks beer less than average\n",
    "s1 = df_stats_reg[df_stats_reg['Consumption'] <= mean]['Incidence Per Capita']\n",
    "#sample two - people who drinks beer greater than average\n",
    "s2 = df_stats_reg[df_stats_reg['Consumption'] > mean]['Incidence Per Capita']"
   ]
  },
  {
   "cell_type": "code",
   "execution_count": 94,
   "metadata": {},
   "outputs": [
    {
     "name": "stdout",
     "output_type": "stream",
     "text": [
      "People who drinks beer less than average: Cancer Incidence variance is 5.162905843819473e-05\n",
      "People who drinks beer less than average: sample size is 181\n",
      "People who drinks beer more than average: Cancer Incidence variance is 1.4457956558151115e-05\n",
      "People who drinks beer more than average: sample size is 251\n"
     ]
    }
   ],
   "source": [
    "print(\"People who drinks beer less than average: Cancer Incidence variance is {}\".format(s1.var()))\n",
    "print(\"People who drinks beer less than average: sample size is {}\".format(len(s1)))\n",
    "print(\"People who drinks beer more than average: Cancer Incidence variance is {}\".format(s2.var()))\n",
    "print(\"People who drinks beer more than average: sample size is {}\".format(len(s2)))"
   ]
  },
  {
   "cell_type": "code",
   "execution_count": 105,
   "metadata": {},
   "outputs": [
    {
     "data": {
      "text/plain": [
       "Ttest_indResult(statistic=-4.74595660287129, pvalue=3.476899628595322e-06)"
      ]
     },
     "execution_count": 105,
     "metadata": {},
     "output_type": "execute_result"
    }
   ],
   "source": [
    "stats.ttest_ind(s1,s2,equal_var = False)"
   ]
  },
  {
   "cell_type": "code",
   "execution_count": null,
   "metadata": {},
   "outputs": [],
   "source": []
  }
 ],
 "metadata": {
  "kernelspec": {
   "display_name": "Python 3",
   "language": "python",
   "name": "python3"
  },
  "language_info": {
   "codemirror_mode": {
    "name": "ipython",
    "version": 3
   },
   "file_extension": ".py",
   "mimetype": "text/x-python",
   "name": "python",
   "nbconvert_exporter": "python",
   "pygments_lexer": "ipython3",
   "version": "3.7.9"
  }
 },
 "nbformat": 4,
 "nbformat_minor": 4
}
